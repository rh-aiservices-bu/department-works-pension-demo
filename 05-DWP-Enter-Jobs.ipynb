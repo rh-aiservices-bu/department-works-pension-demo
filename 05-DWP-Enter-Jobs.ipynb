{
 "cells": [
  {
   "cell_type": "code",
   "execution_count": 1,
   "id": "9c427989-2091-4916-a388-d1015ded029a",
   "metadata": {},
   "outputs": [],
   "source": [
    "#my_text is the jobid / title text that will be read directly from AWS storage after web scraping is finished\n",
    "my_text = 'admin assistant office administrator administrative support at coreix 2597597309'     \n",
    "\n",
    "#my_route is the route that was created in your OpenShift dedicated project\n",
    "#my_route = 'http://metrobus-repairs-nlp-workshop-testaudrey2.apps.integrations.fb55.p1.openshiftapps.com/'\n",
    "my_route = ''\n"
   ]
  },
  {
   "cell_type": "code",
   "execution_count": 20,
   "id": "462aae17-f230-4b94-bc50-dbd3683896f1",
   "metadata": {},
   "outputs": [
    {
     "name": "stdout",
     "output_type": "stream",
     "text": [
      "{\"text\": \"car will not stop\"}\n",
      "b'<!DOCTYPE HTML PUBLIC \"-//W3C//DTD HTML 3.2 Final//EN\">\\n<title>404 Not Found</title>\\n<h1>Not Found</h1>\\n<p>The requested URL was not found on the server. If you entered the URL manually please check your spelling and try again.</p>\\n'\n"
     ]
    }
   ],
   "source": [
    "import requests\n",
    "import json\n",
    "from json import dumps\n",
    "\n",
    "content = {\"text\": my_text}\n",
    "json_data = dumps(content)\n",
    "print(json_data)\n",
    "headers = {\"Content-Type\" : \"application/json\"}\n",
    "\n",
    "r = requests.post(my_route + '/prediction', data=json_data, headers=headers)\n",
    "\n",
    "print(r.content)\n",
    "\n"
   ]
  },
  {
   "cell_type": "code",
   "execution_count": null,
   "id": "219219fe-6ebf-466c-a8b0-bb693aacab25",
   "metadata": {},
   "outputs": [],
   "source": []
  }
 ],
 "metadata": {
  "kernelspec": {
   "display_name": "Python 3 (ipykernel)",
   "language": "python",
   "name": "python3"
  },
  "language_info": {
   "codemirror_mode": {
    "name": "ipython",
    "version": 3
   },
   "file_extension": ".py",
   "mimetype": "text/x-python",
   "name": "python",
   "nbconvert_exporter": "python",
   "pygments_lexer": "ipython3",
   "version": "3.8.6"
  }
 },
 "nbformat": 4,
 "nbformat_minor": 5
}
